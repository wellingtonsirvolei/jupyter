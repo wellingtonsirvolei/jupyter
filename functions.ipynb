{
 "cells": [
  {
   "cell_type": "code",
   "execution_count": 1,
   "metadata": {},
   "outputs": [],
   "source": [
    "import matplotlib.pyplot as plt\n",
    "import numpy as np\n",
    "import pandas as pd\n",
    "import seaborn as sns"
   ]
  },
  {
   "cell_type": "code",
   "execution_count": 31,
   "metadata": {},
   "outputs": [],
   "source": [
    "class Statistic:\n",
    "    \n",
    "    def __init__(self, panda):\n",
    "        self.data = panda[panda['role'] == 'student']\n",
    "        \n",
    "    def media_acao(self, x):\n",
    "        g = self.data[self.data['action'] == x].groupby('userid').size()\n",
    "        return g.mean()\n",
    "    \n",
    "    def acao_aluno(self, aluno, acao):\n",
    "        g = self.data[self.data['userid'] == aluno]\n",
    "        return g[g['action'] == acao]['action'].count()\n",
    "\n",
    "    def estatisticas(self, student, action=None):\n",
    "        data = self.data\n",
    "        acoes = data['action'].unique().tolist()\n",
    "        media_turma = []\n",
    "        aluno = []\n",
    "        for k in acoes:\n",
    "            media_turma.append(self.media_acao(k))\n",
    "            aluno.append(self.acao_aluno(student, k))\n",
    "        d = {\"Ação\": acoes, 'Média turma': media_turma, 'Aluno': aluno}\n",
    "        dat = pd.DataFrame(d)\n",
    "        dat['Taxa'] = dat['Aluno']/dat['Média turma']\n",
    "        if action == None:\n",
    "            return dat\n",
    "        else:\n",
    "            sns.barplot(data=dat[dat['Ação'] == action][['Média turma', 'Aluno']]).set_title(student)\n",
    "            return dat\n",
    "        \n",
    "    def plotar_line(self, student, action = 'viewed', day = None):\n",
    "        data = self.data\n",
    "        if day == 'hora':\n",
    "            data['Tempo'] = data.timecreated.dt.hour\n",
    "        elif day == 'semana':\n",
    "            data['Tempo'] = data.timecreated.dt.weekofyear\n",
    "        elif day == 'dia_semana':\n",
    "            data['Tempo'] = data.timecreated.dt.weekday\n",
    "        else :\n",
    "            data['Tempo'] = data.timecreated.dt.dayofyear\n",
    "        if student == 0:\n",
    "            data[(data['action'] == action)].groupby(\"Tempo\")['action'].count().plot(label=action, title = action)\n",
    "            plt.legend()\n",
    "        else:\n",
    "            data[(data['action'] == action) & (data['userid'] == student)].groupby(\"Tempo\")['action'].count().plot(label=action, title = action)\n",
    "            plt.legend()\n",
    "            \n",
    "    def plotar_barra(self, student = 0, action = None, day = 'hora'):\n",
    "        data = self.data\n",
    "        if day == 'hora':\n",
    "            data['Tempo'] = data.timecreated.dt.hour\n",
    "        elif day == 'semana':\n",
    "            data['Tempo'] = data.timecreated.dt.weekofyear\n",
    "        elif day == 'dia_semana':\n",
    "            data['Tempo'] = data.timecreated.dt.weekday\n",
    "        else :\n",
    "            data['Tempo'] = data.timecreated.dt.dayofyear\n",
    "        if student == 0:\n",
    "            sns.countplot(x = 'Tempo', data = data).set_title(student)\n",
    "        else:\n",
    "            if action == None:\n",
    "                sns.countplot(x = 'Tempo', data = data[data['userid'] == student]).set_title(student)\n",
    "            else:\n",
    "                sns.countplot(x = 'Tempo', data = data[(data['userid'] == student) & (data['action'] == action)]).set_title(student)"
   ]
  }
 ],
 "metadata": {
  "kernelspec": {
   "display_name": "Python [conda env:root] *",
   "language": "python",
   "name": "conda-root-py"
  },
  "language_info": {
   "codemirror_mode": {
    "name": "ipython",
    "version": 3
   },
   "file_extension": ".py",
   "mimetype": "text/x-python",
   "name": "python",
   "nbconvert_exporter": "python",
   "pygments_lexer": "ipython3",
   "version": "3.6.8"
  }
 },
 "nbformat": 4,
 "nbformat_minor": 4
}
