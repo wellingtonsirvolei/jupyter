{
 "cells": [
  {
   "cell_type": "code",
   "execution_count": 36,
   "metadata": {},
   "outputs": [],
   "source": [
    "import matplotlib.pyplot as plt\n",
    "import numpy as np\n",
    "import pandas as pd\n",
    "import seaborn as sns\n",
    "\n",
    "\n",
    "%run functions.ipynb\n",
    "\n",
    "df = pd.read_csv('logs-66769.csv', parse_dates = [\"timecreated\"])\n",
    "roles = pd.read_csv('roles-66769.csv')"
   ]
  },
  {
   "cell_type": "code",
   "execution_count": 2,
   "metadata": {},
   "outputs": [
    {
     "data": {
      "text/plain": [
       "<matplotlib.axes._subplots.AxesSubplot at 0x7fe423901d30>"
      ]
     },
     "execution_count": 2,
     "metadata": {},
     "output_type": "execute_result"
    },
    {
     "data": {
      "image/png": "[encoded data removed]",
      "text/plain": [
       "<Figure size 432x288 with 1 Axes>"
      ]
     },
     "metadata": {
      "needs_background": "light"
     },
     "output_type": "display_data"
    }
   ],
   "source": [
    "df.head()\n",
    "df.dtypes\n",
    "\n",
    "\n",
    "group = df.groupby('action')\n",
    "group_A = group['timecreated']\n",
    "\n",
    "group_B = df.groupby(['action', pd.Grouper(key='timecreated', freq='30s')])\n",
    "\n",
    "df['Dia'] = df.timecreated.dt.dayofyear\n",
    "df.groupby(\"Dia\")['id'].count().plot()\n"
   ]
  },
  {
   "cell_type": "code",
   "execution_count": 3,
   "metadata": {},
   "outputs": [],
   "source": [
    "df.head()\n",
    "gp = df.groupby('userid')['action']\n",
    "#df.drop(df[df.crud != 'r'].index).groupby('userid')['crud'].value_conts()"
   ]
  },
  {
   "cell_type": "code",
   "execution_count": 4,
   "metadata": {},
   "outputs": [],
   "source": [
    "#Visualizção por id:"
   ]
  },
  {
   "cell_type": "code",
   "execution_count": 5,
   "metadata": {},
   "outputs": [
    {
     "data": {
      "text/plain": [
       "userid\n",
       "2           41\n",
       "15882        5\n",
       "29547      231\n",
       "34239       48\n",
       "37340       22\n",
       "39023      643\n",
       "48871      153\n",
       "50211     4255\n",
       "60360      452\n",
       "62142       82\n",
       "72443        1\n",
       "86675       15\n",
       "126774       5\n",
       "136221     982\n",
       "137946     905\n",
       "156798    1019\n",
       "164769     690\n",
       "170334      24\n",
       "211859      92\n",
       "213985      94\n",
       "214522       5\n",
       "233923      16\n",
       "247116      68\n",
       "249493     116\n",
       "251113     540\n",
       "251196     878\n",
       "251523     498\n",
       "252073     539\n",
       "252418     609\n",
       "252807     898\n",
       "          ... \n",
       "272105     147\n",
       "272166      39\n",
       "272276       1\n",
       "272316     695\n",
       "272394      97\n",
       "272461       5\n",
       "272523     855\n",
       "273299     863\n",
       "273681    1416\n",
       "273854     626\n",
       "276435     351\n",
       "276742     647\n",
       "276811     466\n",
       "276920     485\n",
       "276935     738\n",
       "276993      36\n",
       "277017     554\n",
       "277728     605\n",
       "277861       5\n",
       "277960     486\n",
       "277964     576\n",
       "277981     616\n",
       "277986     678\n",
       "278137     439\n",
       "278140     375\n",
       "278237     689\n",
       "278345     794\n",
       "278812     624\n",
       "279155     715\n",
       "280072     588\n",
       "Name: crud, Length: 223, dtype: int64"
      ]
     },
     "execution_count": 5,
     "metadata": {},
     "output_type": "execute_result"
    }
   ],
   "source": [
    "gd = df.loc[df['crud'] == 'r']\n",
    "gd.groupby('userid')['crud'].count()"
   ]
  },
  {
   "cell_type": "code",
   "execution_count": 6,
   "metadata": {},
   "outputs": [],
   "source": [
    "#Visualização total (crud == r)"
   ]
  },
  {
   "cell_type": "code",
   "execution_count": 7,
   "metadata": {},
   "outputs": [
    {
     "data": {
      "text/plain": [
       "crud\n",
       "c     13598\n",
       "d      8203\n",
       "r    118927\n",
       "u     76922\n",
       "Name: userid, dtype: int64"
      ]
     },
     "execution_count": 7,
     "metadata": {},
     "output_type": "execute_result"
    }
   ],
   "source": [
    "df.groupby('crud')['userid'].count()"
   ]
  },
  {
   "cell_type": "code",
   "execution_count": 8,
   "metadata": {},
   "outputs": [
    {
     "data": {
      "text/plain": [
       "crud\n",
       "u    76922\n",
       "Name: userid, dtype: int64"
      ]
     },
     "execution_count": 8,
     "metadata": {},
     "output_type": "execute_result"
    }
   ],
   "source": [
    "#Número de contribuição (crud == u)\n",
    "    u = df.loc[df['crud'] == 'u']\n",
    "    u.groupby('crud')['userid'].count()"
   ]
  },
  {
   "cell_type": "code",
   "execution_count": 9,
   "metadata": {},
   "outputs": [
    {
     "data": {
      "text/html": [
       "<div>\n",
       "<style scoped>\n",
       "    .dataframe tbody tr th:only-of-type {\n",
       "        vertical-align: middle;\n",
       "    }\n",
       "\n",
       "    .dataframe tbody tr th {\n",
       "        vertical-align: top;\n",
       "    }\n",
       "\n",
       "    .dataframe thead th {\n",
       "        text-align: right;\n",
       "    }\n",
       "</style>\n",
       "<table border=\"1\" class=\"dataframe\">\n",
       "  <thead>\n",
       "    <tr style=\"text-align: right;\">\n",
       "      <th></th>\n",
       "      <th>Unnamed: 0</th>\n",
       "      <th>id</th>\n",
       "      <th>eventname</th>\n",
       "      <th>component</th>\n",
       "      <th>action</th>\n",
       "      <th>target</th>\n",
       "      <th>objecttable</th>\n",
       "      <th>objectid</th>\n",
       "      <th>crud</th>\n",
       "      <th>edulevel</th>\n",
       "      <th>...</th>\n",
       "      <th>userid</th>\n",
       "      <th>courseid</th>\n",
       "      <th>relateduserid</th>\n",
       "      <th>anonymous</th>\n",
       "      <th>other</th>\n",
       "      <th>timecreated</th>\n",
       "      <th>origin</th>\n",
       "      <th>ip</th>\n",
       "      <th>realuserid</th>\n",
       "      <th>Dia</th>\n",
       "    </tr>\n",
       "  </thead>\n",
       "  <tbody>\n",
       "    <tr>\n",
       "      <th>228</th>\n",
       "      <td>228</td>\n",
       "      <td>1259904984</td>\n",
       "      <td>\\mod_forum\\event\\assessable_uploaded</td>\n",
       "      <td>mod_forum</td>\n",
       "      <td>uploaded</td>\n",
       "      <td>assessable</td>\n",
       "      <td>forum_posts</td>\n",
       "      <td>699325.0</td>\n",
       "      <td>c</td>\n",
       "      <td>2</td>\n",
       "      <td>...</td>\n",
       "      <td>50211</td>\n",
       "      <td>66769</td>\n",
       "      <td>NaN</td>\n",
       "      <td>0</td>\n",
       "      <td>a:4:{s:7:\"content\";s:1250:\"&lt;p&gt;&lt;/p&gt;&lt;p&gt;Caro alun...</td>\n",
       "      <td>2019-02-05 15:41:51</td>\n",
       "      <td>restore</td>\n",
       "      <td>177.141.242.47</td>\n",
       "      <td>NaN</td>\n",
       "      <td>36</td>\n",
       "    </tr>\n",
       "    <tr>\n",
       "      <th>229</th>\n",
       "      <td>229</td>\n",
       "      <td>1259904985</td>\n",
       "      <td>\\mod_forum\\event\\assessable_uploaded</td>\n",
       "      <td>mod_forum</td>\n",
       "      <td>uploaded</td>\n",
       "      <td>assessable</td>\n",
       "      <td>forum_posts</td>\n",
       "      <td>699326.0</td>\n",
       "      <td>c</td>\n",
       "      <td>2</td>\n",
       "      <td>...</td>\n",
       "      <td>50211</td>\n",
       "      <td>66769</td>\n",
       "      <td>NaN</td>\n",
       "      <td>0</td>\n",
       "      <td>a:4:{s:7:\"content\";s:1314:\"&lt;p&gt;&lt;/p&gt;&lt;p&gt;Caro alun...</td>\n",
       "      <td>2019-02-05 15:41:51</td>\n",
       "      <td>restore</td>\n",
       "      <td>177.141.242.47</td>\n",
       "      <td>NaN</td>\n",
       "      <td>36</td>\n",
       "    </tr>\n",
       "    <tr>\n",
       "      <th>230</th>\n",
       "      <td>230</td>\n",
       "      <td>1259904986</td>\n",
       "      <td>\\mod_forum\\event\\assessable_uploaded</td>\n",
       "      <td>mod_forum</td>\n",
       "      <td>uploaded</td>\n",
       "      <td>assessable</td>\n",
       "      <td>forum_posts</td>\n",
       "      <td>699327.0</td>\n",
       "      <td>c</td>\n",
       "      <td>2</td>\n",
       "      <td>...</td>\n",
       "      <td>50211</td>\n",
       "      <td>66769</td>\n",
       "      <td>NaN</td>\n",
       "      <td>0</td>\n",
       "      <td>a:4:{s:7:\"content\";s:1251:\"&lt;p&gt;&lt;/p&gt;&lt;p&gt;Caro alun...</td>\n",
       "      <td>2019-02-05 15:41:51</td>\n",
       "      <td>restore</td>\n",
       "      <td>177.141.242.47</td>\n",
       "      <td>NaN</td>\n",
       "      <td>36</td>\n",
       "    </tr>\n",
       "    <tr>\n",
       "      <th>1878</th>\n",
       "      <td>1878</td>\n",
       "      <td>1261000302</td>\n",
       "      <td>\\mod_forum\\event\\assessable_uploaded</td>\n",
       "      <td>mod_forum</td>\n",
       "      <td>uploaded</td>\n",
       "      <td>assessable</td>\n",
       "      <td>forum_posts</td>\n",
       "      <td>699975.0</td>\n",
       "      <td>c</td>\n",
       "      <td>2</td>\n",
       "      <td>...</td>\n",
       "      <td>50211</td>\n",
       "      <td>66769</td>\n",
       "      <td>NaN</td>\n",
       "      <td>0</td>\n",
       "      <td>a:4:{s:7:\"content\";s:750:\"&lt;p&gt;Caro aluno de CN:...</td>\n",
       "      <td>2019-02-18 13:15:36</td>\n",
       "      <td>web</td>\n",
       "      <td>177.141.242.47</td>\n",
       "      <td>NaN</td>\n",
       "      <td>49</td>\n",
       "    </tr>\n",
       "    <tr>\n",
       "      <th>3012</th>\n",
       "      <td>3012</td>\n",
       "      <td>1261349996</td>\n",
       "      <td>\\mod_forum\\event\\assessable_uploaded</td>\n",
       "      <td>mod_forum</td>\n",
       "      <td>uploaded</td>\n",
       "      <td>assessable</td>\n",
       "      <td>forum_posts</td>\n",
       "      <td>700176.0</td>\n",
       "      <td>c</td>\n",
       "      <td>2</td>\n",
       "      <td>...</td>\n",
       "      <td>50211</td>\n",
       "      <td>66769</td>\n",
       "      <td>NaN</td>\n",
       "      <td>0</td>\n",
       "      <td>a:4:{s:7:\"content\";s:530:\"&lt;p&gt;Caro aluno de CN:...</td>\n",
       "      <td>2019-02-19 17:34:50</td>\n",
       "      <td>web</td>\n",
       "      <td>143.107.58.2</td>\n",
       "      <td>NaN</td>\n",
       "      <td>50</td>\n",
       "    </tr>\n",
       "  </tbody>\n",
       "</table>\n",
       "<p>5 rows × 23 columns</p>\n",
       "</div>"
      ],
      "text/plain": [
       "      Unnamed: 0          id                             eventname  component  \\\n",
       "228          228  1259904984  \\mod_forum\\event\\assessable_uploaded  mod_forum   \n",
       "229          229  1259904985  \\mod_forum\\event\\assessable_uploaded  mod_forum   \n",
       "230          230  1259904986  \\mod_forum\\event\\assessable_uploaded  mod_forum   \n",
       "1878        1878  1261000302  \\mod_forum\\event\\assessable_uploaded  mod_forum   \n",
       "3012        3012  1261349996  \\mod_forum\\event\\assessable_uploaded  mod_forum   \n",
       "\n",
       "        action      target  objecttable  objectid crud  edulevel  ...  userid  \\\n",
       "228   uploaded  assessable  forum_posts  699325.0    c         2  ...   50211   \n",
       "229   uploaded  assessable  forum_posts  699326.0    c         2  ...   50211   \n",
       "230   uploaded  assessable  forum_posts  699327.0    c         2  ...   50211   \n",
       "1878  uploaded  assessable  forum_posts  699975.0    c         2  ...   50211   \n",
       "3012  uploaded  assessable  forum_posts  700176.0    c         2  ...   50211   \n",
       "\n",
       "      courseid  relateduserid  anonymous  \\\n",
       "228      66769            NaN          0   \n",
       "229      66769            NaN          0   \n",
       "230      66769            NaN          0   \n",
       "1878     66769            NaN          0   \n",
       "3012     66769            NaN          0   \n",
       "\n",
       "                                                  other         timecreated  \\\n",
       "228   a:4:{s:7:\"content\";s:1250:\"<p></p><p>Caro alun... 2019-02-05 15:41:51   \n",
       "229   a:4:{s:7:\"content\";s:1314:\"<p></p><p>Caro alun... 2019-02-05 15:41:51   \n",
       "230   a:4:{s:7:\"content\";s:1251:\"<p></p><p>Caro alun... 2019-02-05 15:41:51   \n",
       "1878  a:4:{s:7:\"content\";s:750:\"<p>Caro aluno de CN:... 2019-02-18 13:15:36   \n",
       "3012  a:4:{s:7:\"content\";s:530:\"<p>Caro aluno de CN:... 2019-02-19 17:34:50   \n",
       "\n",
       "       origin              ip realuserid Dia  \n",
       "228   restore  177.141.242.47        NaN  36  \n",
       "229   restore  177.141.242.47        NaN  36  \n",
       "230   restore  177.141.242.47        NaN  36  \n",
       "1878      web  177.141.242.47        NaN  49  \n",
       "3012      web    143.107.58.2        NaN  50  \n",
       "\n",
       "[5 rows x 23 columns]"
      ]
     },
     "execution_count": 9,
     "metadata": {},
     "output_type": "execute_result"
    }
   ],
   "source": [
    "df.drop(df[(df.objecttable != 'forum_posts') | (df.crud == 'u')].index).head(5)"
   ]
  },
  {
   "cell_type": "code",
   "execution_count": 10,
   "metadata": {},
   "outputs": [
    {
     "data": {
      "text/plain": [
       "123"
      ]
     },
     "execution_count": 10,
     "metadata": {},
     "output_type": "execute_result"
    }
   ],
   "source": [
    "# Quantas postagens no fórum?\n",
    "    df.objecttable.drop(df[(df.objecttable != 'forum_posts')].index).count()"
   ]
  },
  {
   "cell_type": "code",
   "execution_count": 11,
   "metadata": {},
   "outputs": [
    {
     "data": {
      "text/plain": [
       "107"
      ]
     },
     "execution_count": 11,
     "metadata": {},
     "output_type": "execute_result"
    }
   ],
   "source": [
    "# Quantas postagens no fórum é diferente de crud = u?\n",
    "    df.objecttable.drop(df[(df.objecttable != 'forum_posts') | (df.crud == 'u')].index).count()"
   ]
  },
  {
   "cell_type": "code",
   "execution_count": 12,
   "metadata": {},
   "outputs": [
    {
     "data": {
      "text/plain": [
       "16"
      ]
     },
     "execution_count": 12,
     "metadata": {},
     "output_type": "execute_result"
    }
   ],
   "source": [
    "# Quantas postagens no fórum é igual a crud = u?\n",
    "    df.objecttable.drop(df[(df.objecttable != 'forum_posts') | (df.crud != 'u')].index).count()"
   ]
  },
  {
   "cell_type": "code",
   "execution_count": 13,
   "metadata": {},
   "outputs": [
    {
     "data": {
      "text/plain": [
       "47606"
      ]
     },
     "execution_count": 13,
     "metadata": {},
     "output_type": "execute_result"
    }
   ],
   "source": [
    "# Quantas entrega de quiz?\n",
    "    df.objecttable.drop(df[(df.objecttable != 'quiz_attempts')].index).count()    "
   ]
  },
  {
   "cell_type": "code",
   "execution_count": 14,
   "metadata": {},
   "outputs": [
    {
     "data": {
      "text/plain": [
       "4911"
      ]
     },
     "execution_count": 14,
     "metadata": {},
     "output_type": "execute_result"
    }
   ],
   "source": [
    "# Quantos entrega de quiz são crud = u?\n",
    "    df.objecttable.drop(df[(df.objecttable != 'quiz_attempts') | (df.crud != 'u')].index).count()"
   ]
  },
  {
   "cell_type": "code",
   "execution_count": 15,
   "metadata": {},
   "outputs": [
    {
     "data": {
      "text/plain": [
       "42695"
      ]
     },
     "execution_count": 15,
     "metadata": {},
     "output_type": "execute_result"
    }
   ],
   "source": [
    "# Quantos entrega de quiz não são crud = u?\n",
    "    df.objecttable.drop(df[(df.objecttable != 'quiz_attempts') | (df.crud == 'u')].index).count()"
   ]
  },
  {
   "cell_type": "code",
   "execution_count": 16,
   "metadata": {},
   "outputs": [],
   "source": [
    "# crud = r por tempo por dia"
   ]
  },
  {
   "cell_type": "code",
   "execution_count": 17,
   "metadata": {},
   "outputs": [
    {
     "data": {
      "text/plain": [
       "<matplotlib.axes._subplots.AxesSubplot at 0x7fe42397a0f0>"
      ]
     },
     "execution_count": 17,
     "metadata": {},
     "output_type": "execute_result"
    },
    {
     "data": {
      "image/png": "[encoded data removed]",
      "text/plain": [
       "<Figure size 432x288 with 1 Axes>"
      ]
     },
     "metadata": {
      "needs_background": "light"
     },
     "output_type": "display_data"
    }
   ],
   "source": [
    "cont = df[df['crud'] == 'r'].groupby('Dia').size()\n",
    "cont.plot(title = \"Visualização por dia do ano\")"
   ]
  },
  {
   "cell_type": "code",
   "execution_count": 18,
   "metadata": {},
   "outputs": [],
   "source": [
    "# Atividade no fórum por dia"
   ]
  },
  {
   "cell_type": "code",
   "execution_count": 19,
   "metadata": {},
   "outputs": [
    {
     "data": {
      "text/plain": [
       "<matplotlib.axes._subplots.AxesSubplot at 0x7fe42498b748>"
      ]
     },
     "execution_count": 19,
     "metadata": {},
     "output_type": "execute_result"
    },
    {
     "data": {
      "image/png": "[encoded data removed]",
      "text/plain": [
       "<Figure size 432x288 with 1 Axes>"
      ]
     },
     "metadata": {
      "needs_background": "light"
     },
     "output_type": "display_data"
    }
   ],
   "source": [
    "forum = df[df['objecttable'] == 'forum_posts'].groupby('Dia').size()\n",
    "forum.plot(title = \"Postagem no fórum por dia do ano\")"
   ]
  },
  {
   "cell_type": "code",
   "execution_count": 20,
   "metadata": {},
   "outputs": [],
   "source": [
    "# Atividade Geral"
   ]
  },
  {
   "cell_type": "code",
   "execution_count": 21,
   "metadata": {},
   "outputs": [
    {
     "data": {
      "text/plain": [
       "<matplotlib.axes._subplots.AxesSubplot at 0x7fe424a7ef60>"
      ]
     },
     "execution_count": 21,
     "metadata": {},
     "output_type": "execute_result"
    },
    {
     "data": {
      "image/png": "[encoded data removed]",
      "text/plain": [
       "<Figure size 432x288 with 1 Axes>"
      ]
     },
     "metadata": {
      "needs_background": "light"
     },
     "output_type": "display_data"
    }
   ],
   "source": [
    "geral = df.groupby('Dia').size()\n",
    "geral.plot()"
   ]
  },
  {
   "cell_type": "code",
   "execution_count": 22,
   "metadata": {},
   "outputs": [
    {
     "data": {
      "text/html": [
       "<div>\n",
       "<style scoped>\n",
       "    .dataframe tbody tr th:only-of-type {\n",
       "        vertical-align: middle;\n",
       "    }\n",
       "\n",
       "    .dataframe tbody tr th {\n",
       "        vertical-align: top;\n",
       "    }\n",
       "\n",
       "    .dataframe thead th {\n",
       "        text-align: right;\n",
       "    }\n",
       "</style>\n",
       "<table border=\"1\" class=\"dataframe\">\n",
       "  <thead>\n",
       "    <tr style=\"text-align: right;\">\n",
       "      <th></th>\n",
       "      <th>Unnamed: 0</th>\n",
       "      <th>id</th>\n",
       "      <th>eventname</th>\n",
       "      <th>component</th>\n",
       "      <th>action</th>\n",
       "      <th>target</th>\n",
       "      <th>objecttable</th>\n",
       "      <th>objectid</th>\n",
       "      <th>crud</th>\n",
       "      <th>edulevel</th>\n",
       "      <th>...</th>\n",
       "      <th>userid</th>\n",
       "      <th>courseid</th>\n",
       "      <th>relateduserid</th>\n",
       "      <th>anonymous</th>\n",
       "      <th>other</th>\n",
       "      <th>timecreated</th>\n",
       "      <th>origin</th>\n",
       "      <th>ip</th>\n",
       "      <th>realuserid</th>\n",
       "      <th>Dia</th>\n",
       "    </tr>\n",
       "    <tr>\n",
       "      <th>contextinstanceid</th>\n",
       "      <th></th>\n",
       "      <th></th>\n",
       "      <th></th>\n",
       "      <th></th>\n",
       "      <th></th>\n",
       "      <th></th>\n",
       "      <th></th>\n",
       "      <th></th>\n",
       "      <th></th>\n",
       "      <th></th>\n",
       "      <th></th>\n",
       "      <th></th>\n",
       "      <th></th>\n",
       "      <th></th>\n",
       "      <th></th>\n",
       "      <th></th>\n",
       "      <th></th>\n",
       "      <th></th>\n",
       "      <th></th>\n",
       "      <th></th>\n",
       "      <th></th>\n",
       "    </tr>\n",
       "  </thead>\n",
       "  <tbody>\n",
       "    <tr>\n",
       "      <th>2474267</th>\n",
       "      <td>117</td>\n",
       "      <td>117</td>\n",
       "      <td>117</td>\n",
       "      <td>117</td>\n",
       "      <td>117</td>\n",
       "      <td>117</td>\n",
       "      <td>117</td>\n",
       "      <td>117</td>\n",
       "      <td>117</td>\n",
       "      <td>117</td>\n",
       "      <td>...</td>\n",
       "      <td>117</td>\n",
       "      <td>117</td>\n",
       "      <td>0</td>\n",
       "      <td>117</td>\n",
       "      <td>117</td>\n",
       "      <td>117</td>\n",
       "      <td>117</td>\n",
       "      <td>117</td>\n",
       "      <td>0</td>\n",
       "      <td>117</td>\n",
       "    </tr>\n",
       "    <tr>\n",
       "      <th>2474474</th>\n",
       "      <td>2</td>\n",
       "      <td>2</td>\n",
       "      <td>2</td>\n",
       "      <td>2</td>\n",
       "      <td>2</td>\n",
       "      <td>2</td>\n",
       "      <td>2</td>\n",
       "      <td>2</td>\n",
       "      <td>2</td>\n",
       "      <td>2</td>\n",
       "      <td>...</td>\n",
       "      <td>2</td>\n",
       "      <td>2</td>\n",
       "      <td>0</td>\n",
       "      <td>2</td>\n",
       "      <td>2</td>\n",
       "      <td>2</td>\n",
       "      <td>2</td>\n",
       "      <td>1</td>\n",
       "      <td>0</td>\n",
       "      <td>2</td>\n",
       "    </tr>\n",
       "    <tr>\n",
       "      <th>2474475</th>\n",
       "      <td>2</td>\n",
       "      <td>2</td>\n",
       "      <td>2</td>\n",
       "      <td>2</td>\n",
       "      <td>2</td>\n",
       "      <td>2</td>\n",
       "      <td>2</td>\n",
       "      <td>2</td>\n",
       "      <td>2</td>\n",
       "      <td>2</td>\n",
       "      <td>...</td>\n",
       "      <td>2</td>\n",
       "      <td>2</td>\n",
       "      <td>0</td>\n",
       "      <td>2</td>\n",
       "      <td>2</td>\n",
       "      <td>2</td>\n",
       "      <td>2</td>\n",
       "      <td>1</td>\n",
       "      <td>0</td>\n",
       "      <td>2</td>\n",
       "    </tr>\n",
       "    <tr>\n",
       "      <th>2474476</th>\n",
       "      <td>2</td>\n",
       "      <td>2</td>\n",
       "      <td>2</td>\n",
       "      <td>2</td>\n",
       "      <td>2</td>\n",
       "      <td>2</td>\n",
       "      <td>2</td>\n",
       "      <td>2</td>\n",
       "      <td>2</td>\n",
       "      <td>2</td>\n",
       "      <td>...</td>\n",
       "      <td>2</td>\n",
       "      <td>2</td>\n",
       "      <td>0</td>\n",
       "      <td>2</td>\n",
       "      <td>2</td>\n",
       "      <td>2</td>\n",
       "      <td>2</td>\n",
       "      <td>1</td>\n",
       "      <td>0</td>\n",
       "      <td>2</td>\n",
       "    </tr>\n",
       "  </tbody>\n",
       "</table>\n",
       "<p>4 rows × 22 columns</p>\n",
       "</div>"
      ],
      "text/plain": [
       "                   Unnamed: 0   id  eventname  component  action  target  \\\n",
       "contextinstanceid                                                          \n",
       "2474267                   117  117        117        117     117     117   \n",
       "2474474                     2    2          2          2       2       2   \n",
       "2474475                     2    2          2          2       2       2   \n",
       "2474476                     2    2          2          2       2       2   \n",
       "\n",
       "                   objecttable  objectid  crud  edulevel  ...  userid  \\\n",
       "contextinstanceid                                         ...           \n",
       "2474267                    117       117   117       117  ...     117   \n",
       "2474474                      2         2     2         2  ...       2   \n",
       "2474475                      2         2     2         2  ...       2   \n",
       "2474476                      2         2     2         2  ...       2   \n",
       "\n",
       "                   courseid  relateduserid  anonymous  other  timecreated  \\\n",
       "contextinstanceid                                                           \n",
       "2474267                 117              0        117    117          117   \n",
       "2474474                   2              0          2      2            2   \n",
       "2474475                   2              0          2      2            2   \n",
       "2474476                   2              0          2      2            2   \n",
       "\n",
       "                   origin   ip  realuserid  Dia  \n",
       "contextinstanceid                                \n",
       "2474267               117  117           0  117  \n",
       "2474474                 2    1           0    2  \n",
       "2474475                 2    1           0    2  \n",
       "2474476                 2    1           0    2  \n",
       "\n",
       "[4 rows x 22 columns]"
      ]
     },
     "execution_count": 22,
     "metadata": {},
     "output_type": "execute_result"
    }
   ],
   "source": [
    "foruns = df[df['objecttable'] == 'forum_posts']\n",
    "foruns.groupby(['contextinstanceid']).count()"
   ]
  },
  {
   "cell_type": "raw",
   "metadata": {},
   "source": []
  },
  {
   "cell_type": "code",
   "execution_count": 23,
   "metadata": {},
   "outputs": [
    {
     "ename": "TypeError",
     "evalue": "Empty 'DataFrame': no numeric data to plot",
     "output_type": "error",
     "traceback": [
      "\u001b[0;31m---------------------------------------------------------------------------\u001b[0m",
      "\u001b[0;31mTypeError\u001b[0m                                 Traceback (most recent call last)",
      "\u001b[0;32m<ipython-input-23-8502a3f7e63c>\u001b[0m in \u001b[0;36m<module>\u001b[0;34m\u001b[0m\n\u001b[1;32m      6\u001b[0m \u001b[0;34m\u001b[0m\u001b[0m\n\u001b[1;32m      7\u001b[0m \u001b[0mplot\u001b[0m\u001b[0;34m(\u001b[0m\u001b[0;34m'objecttable'\u001b[0m\u001b[0;34m,\u001b[0m\u001b[0;34m'forum_posts'\u001b[0m\u001b[0;34m)\u001b[0m\u001b[0;34m\u001b[0m\u001b[0;34m\u001b[0m\u001b[0m\n\u001b[0;32m----> 8\u001b[0;31m \u001b[0mplot\u001b[0m\u001b[0;34m(\u001b[0m\u001b[0;34m'action'\u001b[0m\u001b[0;34m,\u001b[0m\u001b[0;34m''\u001b[0m\u001b[0;34m)\u001b[0m\u001b[0;34m\u001b[0m\u001b[0;34m\u001b[0m\u001b[0m\n\u001b[0m\u001b[1;32m      9\u001b[0m \u001b[0;34m\u001b[0m\u001b[0m\n",
      "\u001b[0;32m<ipython-input-23-8502a3f7e63c>\u001b[0m in \u001b[0;36mplot\u001b[0;34m(y, x)\u001b[0m\n\u001b[1;32m      3\u001b[0m     \u001b[0mdf\u001b[0m\u001b[0;34m[\u001b[0m\u001b[0;34m'Tempo'\u001b[0m\u001b[0;34m]\u001b[0m \u001b[0;34m=\u001b[0m \u001b[0mdf\u001b[0m\u001b[0;34m.\u001b[0m\u001b[0mtimecreated\u001b[0m\u001b[0;34m.\u001b[0m\u001b[0mdt\u001b[0m\u001b[0;34m.\u001b[0m\u001b[0mdayofyear\u001b[0m\u001b[0;34m\u001b[0m\u001b[0;34m\u001b[0m\u001b[0m\n\u001b[1;32m      4\u001b[0m     \u001b[0mforum\u001b[0m \u001b[0;34m=\u001b[0m \u001b[0mdf\u001b[0m\u001b[0;34m[\u001b[0m\u001b[0mdf\u001b[0m\u001b[0;34m[\u001b[0m\u001b[0my\u001b[0m\u001b[0;34m]\u001b[0m \u001b[0;34m==\u001b[0m \u001b[0mx\u001b[0m\u001b[0;34m]\u001b[0m\u001b[0;34m.\u001b[0m\u001b[0mgroupby\u001b[0m\u001b[0;34m(\u001b[0m\u001b[0;34m'Tempo'\u001b[0m\u001b[0;34m)\u001b[0m\u001b[0;34m.\u001b[0m\u001b[0msize\u001b[0m\u001b[0;34m(\u001b[0m\u001b[0;34m)\u001b[0m\u001b[0;34m\u001b[0m\u001b[0;34m\u001b[0m\u001b[0m\n\u001b[0;32m----> 5\u001b[0;31m     \u001b[0mforum\u001b[0m\u001b[0;34m.\u001b[0m\u001b[0mplot\u001b[0m\u001b[0;34m(\u001b[0m\u001b[0mtitle\u001b[0m \u001b[0;34m=\u001b[0m \u001b[0;34m\"Postagem no fórum por dia do ano\"\u001b[0m\u001b[0;34m)\u001b[0m\u001b[0;34m\u001b[0m\u001b[0;34m\u001b[0m\u001b[0m\n\u001b[0m\u001b[1;32m      6\u001b[0m \u001b[0;34m\u001b[0m\u001b[0m\n\u001b[1;32m      7\u001b[0m \u001b[0mplot\u001b[0m\u001b[0;34m(\u001b[0m\u001b[0;34m'objecttable'\u001b[0m\u001b[0;34m,\u001b[0m\u001b[0;34m'forum_posts'\u001b[0m\u001b[0;34m)\u001b[0m\u001b[0;34m\u001b[0m\u001b[0;34m\u001b[0m\u001b[0m\n",
      "\u001b[0;32m/opt/miniconda3/lib/python3.6/site-packages/pandas/plotting/_core.py\u001b[0m in \u001b[0;36m__call__\u001b[0;34m(self, kind, ax, figsize, use_index, title, grid, legend, style, logx, logy, loglog, xticks, yticks, xlim, ylim, rot, fontsize, colormap, table, yerr, xerr, label, secondary_y, **kwds)\u001b[0m\n\u001b[1;32m   2740\u001b[0m                            \u001b[0mcolormap\u001b[0m\u001b[0;34m=\u001b[0m\u001b[0mcolormap\u001b[0m\u001b[0;34m,\u001b[0m \u001b[0mtable\u001b[0m\u001b[0;34m=\u001b[0m\u001b[0mtable\u001b[0m\u001b[0;34m,\u001b[0m \u001b[0myerr\u001b[0m\u001b[0;34m=\u001b[0m\u001b[0myerr\u001b[0m\u001b[0;34m,\u001b[0m\u001b[0;34m\u001b[0m\u001b[0;34m\u001b[0m\u001b[0m\n\u001b[1;32m   2741\u001b[0m                            \u001b[0mxerr\u001b[0m\u001b[0;34m=\u001b[0m\u001b[0mxerr\u001b[0m\u001b[0;34m,\u001b[0m \u001b[0mlabel\u001b[0m\u001b[0;34m=\u001b[0m\u001b[0mlabel\u001b[0m\u001b[0;34m,\u001b[0m \u001b[0msecondary_y\u001b[0m\u001b[0;34m=\u001b[0m\u001b[0msecondary_y\u001b[0m\u001b[0;34m,\u001b[0m\u001b[0;34m\u001b[0m\u001b[0;34m\u001b[0m\u001b[0m\n\u001b[0;32m-> 2742\u001b[0;31m                            **kwds)\n\u001b[0m\u001b[1;32m   2743\u001b[0m     \u001b[0m__call__\u001b[0m\u001b[0;34m.\u001b[0m\u001b[0m__doc__\u001b[0m \u001b[0;34m=\u001b[0m \u001b[0mplot_series\u001b[0m\u001b[0;34m.\u001b[0m\u001b[0m__doc__\u001b[0m\u001b[0;34m\u001b[0m\u001b[0;34m\u001b[0m\u001b[0m\n\u001b[1;32m   2744\u001b[0m \u001b[0;34m\u001b[0m\u001b[0m\n",
      "\u001b[0;32m/opt/miniconda3/lib/python3.6/site-packages/pandas/plotting/_core.py\u001b[0m in \u001b[0;36mplot_series\u001b[0;34m(data, kind, ax, figsize, use_index, title, grid, legend, style, logx, logy, loglog, xticks, yticks, xlim, ylim, rot, fontsize, colormap, table, yerr, xerr, label, secondary_y, **kwds)\u001b[0m\n\u001b[1;32m   1996\u001b[0m                  \u001b[0myerr\u001b[0m\u001b[0;34m=\u001b[0m\u001b[0myerr\u001b[0m\u001b[0;34m,\u001b[0m \u001b[0mxerr\u001b[0m\u001b[0;34m=\u001b[0m\u001b[0mxerr\u001b[0m\u001b[0;34m,\u001b[0m\u001b[0;34m\u001b[0m\u001b[0;34m\u001b[0m\u001b[0m\n\u001b[1;32m   1997\u001b[0m                  \u001b[0mlabel\u001b[0m\u001b[0;34m=\u001b[0m\u001b[0mlabel\u001b[0m\u001b[0;34m,\u001b[0m \u001b[0msecondary_y\u001b[0m\u001b[0;34m=\u001b[0m\u001b[0msecondary_y\u001b[0m\u001b[0;34m,\u001b[0m\u001b[0;34m\u001b[0m\u001b[0;34m\u001b[0m\u001b[0m\n\u001b[0;32m-> 1998\u001b[0;31m                  **kwds)\n\u001b[0m\u001b[1;32m   1999\u001b[0m \u001b[0;34m\u001b[0m\u001b[0m\n\u001b[1;32m   2000\u001b[0m \u001b[0;34m\u001b[0m\u001b[0m\n",
      "\u001b[0;32m/opt/miniconda3/lib/python3.6/site-packages/pandas/plotting/_core.py\u001b[0m in \u001b[0;36m_plot\u001b[0;34m(data, x, y, subplots, ax, kind, **kwds)\u001b[0m\n\u001b[1;32m   1799\u001b[0m         \u001b[0mplot_obj\u001b[0m \u001b[0;34m=\u001b[0m \u001b[0mklass\u001b[0m\u001b[0;34m(\u001b[0m\u001b[0mdata\u001b[0m\u001b[0;34m,\u001b[0m \u001b[0msubplots\u001b[0m\u001b[0;34m=\u001b[0m\u001b[0msubplots\u001b[0m\u001b[0;34m,\u001b[0m \u001b[0max\u001b[0m\u001b[0;34m=\u001b[0m\u001b[0max\u001b[0m\u001b[0;34m,\u001b[0m \u001b[0mkind\u001b[0m\u001b[0;34m=\u001b[0m\u001b[0mkind\u001b[0m\u001b[0;34m,\u001b[0m \u001b[0;34m**\u001b[0m\u001b[0mkwds\u001b[0m\u001b[0;34m)\u001b[0m\u001b[0;34m\u001b[0m\u001b[0;34m\u001b[0m\u001b[0m\n\u001b[1;32m   1800\u001b[0m \u001b[0;34m\u001b[0m\u001b[0m\n\u001b[0;32m-> 1801\u001b[0;31m     \u001b[0mplot_obj\u001b[0m\u001b[0;34m.\u001b[0m\u001b[0mgenerate\u001b[0m\u001b[0;34m(\u001b[0m\u001b[0;34m)\u001b[0m\u001b[0;34m\u001b[0m\u001b[0;34m\u001b[0m\u001b[0m\n\u001b[0m\u001b[1;32m   1802\u001b[0m     \u001b[0mplot_obj\u001b[0m\u001b[0;34m.\u001b[0m\u001b[0mdraw\u001b[0m\u001b[0;34m(\u001b[0m\u001b[0;34m)\u001b[0m\u001b[0;34m\u001b[0m\u001b[0;34m\u001b[0m\u001b[0m\n\u001b[1;32m   1803\u001b[0m     \u001b[0;32mreturn\u001b[0m \u001b[0mplot_obj\u001b[0m\u001b[0;34m.\u001b[0m\u001b[0mresult\u001b[0m\u001b[0;34m\u001b[0m\u001b[0;34m\u001b[0m\u001b[0m\n",
      "\u001b[0;32m/opt/miniconda3/lib/python3.6/site-packages/pandas/plotting/_core.py\u001b[0m in \u001b[0;36mgenerate\u001b[0;34m(self)\u001b[0m\n\u001b[1;32m    247\u001b[0m     \u001b[0;32mdef\u001b[0m \u001b[0mgenerate\u001b[0m\u001b[0;34m(\u001b[0m\u001b[0mself\u001b[0m\u001b[0;34m)\u001b[0m\u001b[0;34m:\u001b[0m\u001b[0;34m\u001b[0m\u001b[0;34m\u001b[0m\u001b[0m\n\u001b[1;32m    248\u001b[0m         \u001b[0mself\u001b[0m\u001b[0;34m.\u001b[0m\u001b[0m_args_adjust\u001b[0m\u001b[0;34m(\u001b[0m\u001b[0;34m)\u001b[0m\u001b[0;34m\u001b[0m\u001b[0;34m\u001b[0m\u001b[0m\n\u001b[0;32m--> 249\u001b[0;31m         \u001b[0mself\u001b[0m\u001b[0;34m.\u001b[0m\u001b[0m_compute_plot_data\u001b[0m\u001b[0;34m(\u001b[0m\u001b[0;34m)\u001b[0m\u001b[0;34m\u001b[0m\u001b[0;34m\u001b[0m\u001b[0m\n\u001b[0m\u001b[1;32m    250\u001b[0m         \u001b[0mself\u001b[0m\u001b[0;34m.\u001b[0m\u001b[0m_setup_subplots\u001b[0m\u001b[0;34m(\u001b[0m\u001b[0;34m)\u001b[0m\u001b[0;34m\u001b[0m\u001b[0;34m\u001b[0m\u001b[0m\n\u001b[1;32m    251\u001b[0m         \u001b[0mself\u001b[0m\u001b[0;34m.\u001b[0m\u001b[0m_make_plot\u001b[0m\u001b[0;34m(\u001b[0m\u001b[0;34m)\u001b[0m\u001b[0;34m\u001b[0m\u001b[0;34m\u001b[0m\u001b[0m\n",
      "\u001b[0;32m/opt/miniconda3/lib/python3.6/site-packages/pandas/plotting/_core.py\u001b[0m in \u001b[0;36m_compute_plot_data\u001b[0;34m(self)\u001b[0m\n\u001b[1;32m    365\u001b[0m         \u001b[0;32mif\u001b[0m \u001b[0mis_empty\u001b[0m\u001b[0;34m:\u001b[0m\u001b[0;34m\u001b[0m\u001b[0;34m\u001b[0m\u001b[0m\n\u001b[1;32m    366\u001b[0m             raise TypeError('Empty {0!r}: no numeric data to '\n\u001b[0;32m--> 367\u001b[0;31m                             'plot'.format(numeric_data.__class__.__name__))\n\u001b[0m\u001b[1;32m    368\u001b[0m \u001b[0;34m\u001b[0m\u001b[0m\n\u001b[1;32m    369\u001b[0m         \u001b[0mself\u001b[0m\u001b[0;34m.\u001b[0m\u001b[0mdata\u001b[0m \u001b[0;34m=\u001b[0m \u001b[0mnumeric_data\u001b[0m\u001b[0;34m\u001b[0m\u001b[0;34m\u001b[0m\u001b[0m\n",
      "\u001b[0;31mTypeError\u001b[0m: Empty 'DataFrame': no numeric data to plot"
     ]
    },
    {
     "data": {
      "image/png": "[encoded data removed]",
      "text/plain": [
       "<Figure size 432x288 with 1 Axes>"
      ]
     },
     "metadata": {
      "needs_background": "light"
     },
     "output_type": "display_data"
    }
   ],
   "source": [
    "#Plota um gráfico#\n",
    "def plot(y,x):\n",
    "    df['Tempo'] = df.timecreated.dt.dayofyear\n",
    "    forum = df[df[y] == x].groupby('Tempo').size()\n",
    "    forum.plot(title = \"Postagem no fórum por dia do ano\")\n",
    "    \n",
    "plot('objecttable','forum_posts')\n",
    "plot('action','')\n",
    "\n"
   ]
  },
  {
   "cell_type": "markdown",
   "metadata": {},
   "source": [
    "Quantos quentionários respondidos?"
   ]
  },
  {
   "cell_type": "code",
   "execution_count": 24,
   "metadata": {},
   "outputs": [
    {
     "data": {
      "text/plain": [
       "224"
      ]
     },
     "execution_count": 24,
     "metadata": {},
     "output_type": "execute_result"
    }
   ],
   "source": [
    "df['userid'].nunique()"
   ]
  },
  {
   "cell_type": "raw",
   "metadata": {},
   "source": []
  },
  {
   "cell_type": "code",
   "execution_count": 25,
   "metadata": {},
   "outputs": [],
   "source": [
    "gd = df[df['action'] == 'viewed']\n"
   ]
  },
  {
   "cell_type": "code",
   "execution_count": 26,
   "metadata": {},
   "outputs": [
    {
     "data": {
      "text/html": [
       "<div>\n",
       "<style scoped>\n",
       "    .dataframe tbody tr th:only-of-type {\n",
       "        vertical-align: middle;\n",
       "    }\n",
       "\n",
       "    .dataframe tbody tr th {\n",
       "        vertical-align: top;\n",
       "    }\n",
       "\n",
       "    .dataframe thead th {\n",
       "        text-align: right;\n",
       "    }\n",
       "</style>\n",
       "<table border=\"1\" class=\"dataframe\">\n",
       "  <thead>\n",
       "    <tr style=\"text-align: right;\">\n",
       "      <th></th>\n",
       "      <th>userid</th>\n",
       "    </tr>\n",
       "  </thead>\n",
       "  <tbody>\n",
       "    <tr>\n",
       "      <th>50211</th>\n",
       "      <td>4150</td>\n",
       "    </tr>\n",
       "    <tr>\n",
       "      <th>270426</th>\n",
       "      <td>1468</td>\n",
       "    </tr>\n",
       "    <tr>\n",
       "      <th>273681</th>\n",
       "      <td>1324</td>\n",
       "    </tr>\n",
       "    <tr>\n",
       "      <th>270826</th>\n",
       "      <td>1249</td>\n",
       "    </tr>\n",
       "    <tr>\n",
       "      <th>271083</th>\n",
       "      <td>1223</td>\n",
       "    </tr>\n",
       "    <tr>\n",
       "      <th>259978</th>\n",
       "      <td>1101</td>\n",
       "    </tr>\n",
       "    <tr>\n",
       "      <th>270412</th>\n",
       "      <td>1081</td>\n",
       "    </tr>\n",
       "    <tr>\n",
       "      <th>271115</th>\n",
       "      <td>1062</td>\n",
       "    </tr>\n",
       "    <tr>\n",
       "      <th>271547</th>\n",
       "      <td>1023</td>\n",
       "    </tr>\n",
       "    <tr>\n",
       "      <th>156798</th>\n",
       "      <td>1012</td>\n",
       "    </tr>\n",
       "    <tr>\n",
       "      <th>262256</th>\n",
       "      <td>1008</td>\n",
       "    </tr>\n",
       "    <tr>\n",
       "      <th>258891</th>\n",
       "      <td>1008</td>\n",
       "    </tr>\n",
       "    <tr>\n",
       "      <th>271023</th>\n",
       "      <td>1001</td>\n",
       "    </tr>\n",
       "    <tr>\n",
       "      <th>270651</th>\n",
       "      <td>978</td>\n",
       "    </tr>\n",
       "    <tr>\n",
       "      <th>270453</th>\n",
       "      <td>959</td>\n",
       "    </tr>\n",
       "    <tr>\n",
       "      <th>270654</th>\n",
       "      <td>958</td>\n",
       "    </tr>\n",
       "    <tr>\n",
       "      <th>136221</th>\n",
       "      <td>947</td>\n",
       "    </tr>\n",
       "    <tr>\n",
       "      <th>271051</th>\n",
       "      <td>938</td>\n",
       "    </tr>\n",
       "    <tr>\n",
       "      <th>270039</th>\n",
       "      <td>922</td>\n",
       "    </tr>\n",
       "    <tr>\n",
       "      <th>271484</th>\n",
       "      <td>914</td>\n",
       "    </tr>\n",
       "    <tr>\n",
       "      <th>270786</th>\n",
       "      <td>911</td>\n",
       "    </tr>\n",
       "    <tr>\n",
       "      <th>261390</th>\n",
       "      <td>895</td>\n",
       "    </tr>\n",
       "    <tr>\n",
       "      <th>271904</th>\n",
       "      <td>892</td>\n",
       "    </tr>\n",
       "    <tr>\n",
       "      <th>270413</th>\n",
       "      <td>873</td>\n",
       "    </tr>\n",
       "    <tr>\n",
       "      <th>269997</th>\n",
       "      <td>863</td>\n",
       "    </tr>\n",
       "    <tr>\n",
       "      <th>270405</th>\n",
       "      <td>860</td>\n",
       "    </tr>\n",
       "    <tr>\n",
       "      <th>272070</th>\n",
       "      <td>855</td>\n",
       "    </tr>\n",
       "    <tr>\n",
       "      <th>137946</th>\n",
       "      <td>855</td>\n",
       "    </tr>\n",
       "    <tr>\n",
       "      <th>271660</th>\n",
       "      <td>854</td>\n",
       "    </tr>\n",
       "    <tr>\n",
       "      <th>271672</th>\n",
       "      <td>852</td>\n",
       "    </tr>\n",
       "    <tr>\n",
       "      <th>...</th>\n",
       "      <td>...</td>\n",
       "    </tr>\n",
       "    <tr>\n",
       "      <th>271906</th>\n",
       "      <td>386</td>\n",
       "    </tr>\n",
       "    <tr>\n",
       "      <th>270565</th>\n",
       "      <td>385</td>\n",
       "    </tr>\n",
       "    <tr>\n",
       "      <th>270804</th>\n",
       "      <td>385</td>\n",
       "    </tr>\n",
       "    <tr>\n",
       "      <th>270409</th>\n",
       "      <td>374</td>\n",
       "    </tr>\n",
       "    <tr>\n",
       "      <th>271680</th>\n",
       "      <td>374</td>\n",
       "    </tr>\n",
       "    <tr>\n",
       "      <th>278140</th>\n",
       "      <td>362</td>\n",
       "    </tr>\n",
       "    <tr>\n",
       "      <th>267360</th>\n",
       "      <td>360</td>\n",
       "    </tr>\n",
       "    <tr>\n",
       "      <th>272074</th>\n",
       "      <td>343</td>\n",
       "    </tr>\n",
       "    <tr>\n",
       "      <th>252985</th>\n",
       "      <td>339</td>\n",
       "    </tr>\n",
       "    <tr>\n",
       "      <th>276435</th>\n",
       "      <td>332</td>\n",
       "    </tr>\n",
       "    <tr>\n",
       "      <th>255076</th>\n",
       "      <td>324</td>\n",
       "    </tr>\n",
       "    <tr>\n",
       "      <th>270491</th>\n",
       "      <td>314</td>\n",
       "    </tr>\n",
       "    <tr>\n",
       "      <th>265477</th>\n",
       "      <td>299</td>\n",
       "    </tr>\n",
       "    <tr>\n",
       "      <th>271047</th>\n",
       "      <td>294</td>\n",
       "    </tr>\n",
       "    <tr>\n",
       "      <th>261848</th>\n",
       "      <td>287</td>\n",
       "    </tr>\n",
       "    <tr>\n",
       "      <th>271769</th>\n",
       "      <td>256</td>\n",
       "    </tr>\n",
       "    <tr>\n",
       "      <th>271014</th>\n",
       "      <td>218</td>\n",
       "    </tr>\n",
       "    <tr>\n",
       "      <th>29547</th>\n",
       "      <td>214</td>\n",
       "    </tr>\n",
       "    <tr>\n",
       "      <th>271003</th>\n",
       "      <td>207</td>\n",
       "    </tr>\n",
       "    <tr>\n",
       "      <th>260035</th>\n",
       "      <td>185</td>\n",
       "    </tr>\n",
       "    <tr>\n",
       "      <th>272018</th>\n",
       "      <td>183</td>\n",
       "    </tr>\n",
       "    <tr>\n",
       "      <th>262086</th>\n",
       "      <td>159</td>\n",
       "    </tr>\n",
       "    <tr>\n",
       "      <th>270572</th>\n",
       "      <td>151</td>\n",
       "    </tr>\n",
       "    <tr>\n",
       "      <th>270535</th>\n",
       "      <td>148</td>\n",
       "    </tr>\n",
       "    <tr>\n",
       "      <th>48871</th>\n",
       "      <td>143</td>\n",
       "    </tr>\n",
       "    <tr>\n",
       "      <th>272105</th>\n",
       "      <td>143</td>\n",
       "    </tr>\n",
       "    <tr>\n",
       "      <th>261741</th>\n",
       "      <td>132</td>\n",
       "    </tr>\n",
       "    <tr>\n",
       "      <th>261968</th>\n",
       "      <td>130</td>\n",
       "    </tr>\n",
       "    <tr>\n",
       "      <th>249493</th>\n",
       "      <td>114</td>\n",
       "    </tr>\n",
       "    <tr>\n",
       "      <th>261876</th>\n",
       "      <td>111</td>\n",
       "    </tr>\n",
       "  </tbody>\n",
       "</table>\n",
       "<p>170 rows × 1 columns</p>\n",
       "</div>"
      ],
      "text/plain": [
       "        userid\n",
       "50211     4150\n",
       "270426    1468\n",
       "273681    1324\n",
       "270826    1249\n",
       "271083    1223\n",
       "259978    1101\n",
       "270412    1081\n",
       "271115    1062\n",
       "271547    1023\n",
       "156798    1012\n",
       "262256    1008\n",
       "258891    1008\n",
       "271023    1001\n",
       "270651     978\n",
       "270453     959\n",
       "270654     958\n",
       "136221     947\n",
       "271051     938\n",
       "270039     922\n",
       "271484     914\n",
       "270786     911\n",
       "261390     895\n",
       "271904     892\n",
       "270413     873\n",
       "269997     863\n",
       "270405     860\n",
       "272070     855\n",
       "137946     855\n",
       "271660     854\n",
       "271672     852\n",
       "...        ...\n",
       "271906     386\n",
       "270565     385\n",
       "270804     385\n",
       "270409     374\n",
       "271680     374\n",
       "278140     362\n",
       "267360     360\n",
       "272074     343\n",
       "252985     339\n",
       "276435     332\n",
       "255076     324\n",
       "270491     314\n",
       "265477     299\n",
       "271047     294\n",
       "261848     287\n",
       "271769     256\n",
       "271014     218\n",
       "29547      214\n",
       "271003     207\n",
       "260035     185\n",
       "272018     183\n",
       "262086     159\n",
       "270572     151\n",
       "270535     148\n",
       "48871      143\n",
       "272105     143\n",
       "261741     132\n",
       "261968     130\n",
       "249493     114\n",
       "261876     111\n",
       "\n",
       "[170 rows x 1 columns]"
      ]
     },
     "execution_count": 26,
     "metadata": {},
     "output_type": "execute_result"
    }
   ],
   "source": [
    "t = gd['userid'].value_counts().max()\n",
    "data = pd.DataFrame(gd['userid'].value_counts())\n",
    "type(data.loc[270426])\n",
    "\n",
    "greater_than_100 = data[data['userid']>=100]\n",
    "\n",
    "greater_than_100\n",
    "\n",
    "\n"
   ]
  },
  {
   "cell_type": "code",
   "execution_count": 27,
   "metadata": {},
   "outputs": [
    {
     "name": "stderr",
     "output_type": "stream",
     "text": [
      "/opt/miniconda3/lib/python3.6/site-packages/ipykernel_launcher.py:7: SettingWithCopyWarning: \n",
      "A value is trying to be set on a copy of a slice from a DataFrame.\n",
      "Try using .loc[row_indexer,col_indexer] = value instead\n",
      "\n",
      "See the caveats in the documentation: http://pandas.pydata.org/pandas-docs/stable/indexing.html#indexing-view-versus-copy\n",
      "  import sys\n",
      "/opt/miniconda3/lib/python3.6/site-packages/ipykernel_launcher.py:8: UserWarning: Boolean Series key will be reindexed to match DataFrame index.\n",
      "  \n"
     ]
    },
    {
     "data": {
      "image/png": "[encoded data removed]",
      "text/plain": [
       "<Figure size 432x288 with 1 Axes>"
      ]
     },
     "metadata": {
      "needs_background": "light"
     },
     "output_type": "display_data"
    }
   ],
   "source": [
    "g = gd['userid'].value_counts().sum()/gd['userid'].nunique()\n",
    "(gd['userid'].value_counts()/g)\n",
    "\n",
    "\n",
    "def plot(x, y):\n",
    "    gd = df[df['action'] == y]\n",
    "    gd['Tempo'] = gd.timecreated.dt.hour\n",
    "    forum = gd[df['userid'] == x].groupby('Tempo').size()\n",
    "    forum.plot(title = \"\")\n",
    "    \n",
    "plot(50211, 'viewed')\n"
   ]
  },
  {
   "cell_type": "code",
   "execution_count": 28,
   "metadata": {},
   "outputs": [
    {
     "data": {
      "text/plain": [
       "userid\n",
       "2         9\n",
       "50211    53\n",
       "dtype: int64"
      ]
     },
     "execution_count": 28,
     "metadata": {},
     "output_type": "execute_result"
    }
   ],
   "source": [
    "df[df['action'] == 'assigned'].groupby('userid').size()"
   ]
  },
  {
   "cell_type": "code",
   "execution_count": 38,
   "metadata": {},
   "outputs": [],
   "source": [
    "acoes = df['action'].unique().tolist()\n",
    "aluno = df['userid'].unique().tolist()\n",
    "\n",
    "def media_acao(x,data):\n",
    "    V = data[data['role'] == 'student']\n",
    "    g = data[data['action'] == x].groupby('userid').size()\n",
    "    return g.mean()\n"
   ]
  },
  {
   "cell_type": "code",
   "execution_count": 30,
   "metadata": {},
   "outputs": [],
   "source": [
    "data = pd.merge(df, roles)"
   ]
  },
  {
   "cell_type": "code",
   "execution_count": 37,
   "metadata": {},
   "outputs": [
    {
     "data": {
      "text/plain": [
       "663.5361445783133"
      ]
     },
     "execution_count": 37,
     "metadata": {},
     "output_type": "execute_result"
    }
   ],
   "source": [
    "def acao_aluno(aluno, acao, data):\n",
    "    g = data[data['userid'] == aluno]\n",
    "    return g[g['action'] == acao]['action'].count()\n",
    "\n",
    "a = acao_aluno(60360, 'viewed', data)\n",
    "m = media_acao('viewed', data)\n",
    "m"
   ]
  },
  {
   "cell_type": "code",
   "execution_count": 32,
   "metadata": {},
   "outputs": [
    {
     "data": {
      "text/plain": [
       "(17.870967741935484, 122.37770441470742)"
      ]
     },
     "execution_count": 32,
     "metadata": {},
     "output_type": "execute_result"
    }
   ],
   "source": [
    "def estatisticas(student):\n",
    "    acoes = data['action'].unique().tolist()\n",
    "    media_turma = []\n",
    "    aluno = []\n",
    "    for k in acoes:\n",
    "        media_turma.append(media_acao(k, data))\n",
    "        aluno.append(acao_aluno(student, k, data))\n",
    "    d = {'Média turma': media_turma, 'Média Aluno': aluno}\n",
    "    dat = pd.DataFrame(d, index = acoes)\n",
    "    dat['Taxa'] = dat['Média Aluno']/dat['Média turma']\n",
    "    return dat, dat['Média Aluno'].mean(), dat['Média turma'].mean()\n",
    "g, ma, mt = estatisticas(60360)\n",
    "g\n",
    "ma, mt"
   ]
  },
  {
   "cell_type": "code",
   "execution_count": 33,
   "metadata": {},
   "outputs": [],
   "source": [
    "data['Tempo'] = df.timecreated.dt.dayofyear\n",
    "def plot(aluno):\n",
    "    data['Tempo'] = data.timecreated.dt.dayofyear\n",
    "    forum = data[data['action'] == 'viewed'][data['userid'] == aluno].groupby('Tempo').size()\n",
    "    forum.plot(title = \"Postagem no fórum por dia do ano\")\n",
    "\n"
   ]
  },
  {
   "cell_type": "code",
   "execution_count": null,
   "metadata": {},
   "outputs": [],
   "source": [
    "test = Statistic(data)\n",
    "test.media_acao('viewed')"
   ]
  }
 ],
 "metadata": {
  "kernelspec": {
   "display_name": "Python 3",
   "language": "python",
   "name": "python3"
  },
  "language_info": {
   "codemirror_mode": {
    "name": "ipython",
    "version": 3
   },
   "file_extension": ".py",
   "mimetype": "text/x-python",
   "name": "python",
   "nbconvert_exporter": "python",
   "pygments_lexer": "ipython3",
   "version": "3.6.8"
  }
 },
 "nbformat": 4,
 "nbformat_minor": 4
}
