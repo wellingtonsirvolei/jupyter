{
 "cells": [
  {
   "cell_type": "code",
   "execution_count": 15,
   "metadata": {},
   "outputs": [],
   "source": [
    "import matplotlib.pyplot as plt\n",
    "import numpy as np\n",
    "import pandas as pd\n",
    "import seaborn as sns"
   ]
  },
  {
   "cell_type": "code",
   "execution_count": 7,
   "metadata": {},
   "outputs": [
    {
     "name": "stderr",
     "output_type": "stream",
     "text": [
      "/opt/miniconda3/lib/python3.6/site-packages/ipykernel_launcher.py:6: SettingWithCopyWarning: \n",
      "A value is trying to be set on a copy of a slice from a DataFrame.\n",
      "Try using .loc[row_indexer,col_indexer] = value instead\n",
      "\n",
      "See the caveats in the documentation: http://pandas.pydata.org/pandas-docs/stable/indexing.html#indexing-view-versus-copy\n",
      "  \n"
     ]
    },
    {
     "data": {
      "text/plain": [
       "1"
      ]
     },
     "execution_count": 7,
     "metadata": {},
     "output_type": "execute_result"
    },
    {
     "data": {
      "image/png": "[encoded data removed]",
      "text/plain": [
       "<Figure size 432x288 with 1 Axes>"
      ]
     },
     "metadata": {
      "needs_background": "light"
     },
     "output_type": "display_data"
    }
   ],
   "source": [
    "class Statistic:\n",
    "    \n",
    "    def __init__(self, panda):\n",
    "        data = panda[panda['role'] == 'student']\n",
    "        data.set_index('userid')\n",
    "        data['userid'] = data.index\n",
    "        self.data = data\n",
    "        \n",
    "    def media_acao(self, x):\n",
    "        g = self.data[self.data['action'] == x].groupby('userid').size()\n",
    "        return g.mean()\n",
    "    \n",
    "    def acao_aluno(self, aluno, acao):\n",
    "        data = self.data\n",
    "        g = data[(data['userid'] == aluno) & (data['action'] == acao)]\n",
    "        sns.barplot(x = g['component'].value_counts(), y = g['component'].unique(), data = g)\n",
    "        return g[g['action'] == acao]['action'].count()\n",
    "\n",
    "    def estatisticas(self, student, action=None):\n",
    "        data = self.data\n",
    "        acoes = data['action'].unique().tolist()\n",
    "        media_turma = []\n",
    "        aluno = []\n",
    "        for k in acoes:\n",
    "            media_turma.append(self.media_acao(k))\n",
    "            aluno.append(self.acao_aluno(student, k))\n",
    "        d = {\"Ação\": acoes, 'Média turma': media_turma, 'Aluno': aluno}\n",
    "        dat = pd.DataFrame(d)\n",
    "        dat['Taxa'] = dat['Aluno']/dat['Média turma']\n",
    "        if action == None:\n",
    "            return dat\n",
    "        else:\n",
    "            sns.barplot(data=dat[dat['Ação'] == action][['Média turma', 'Aluno']]).set_title(student)\n",
    "            return dat\n",
    "        \n",
    "    def plotar_line(self, student, action = 'viewed', day = None):\n",
    "        data = self.data\n",
    "        if day == 'hora':\n",
    "            data['Tempo'] = data.timecreated.dt.hour\n",
    "        elif day == 'semana':\n",
    "            data['Tempo'] = data.timecreated.dt.weekofyear\n",
    "        elif day == 'dia_semana':\n",
    "            data['Tempo'] = data.timecreated.dt.weekday\n",
    "        else :\n",
    "            data['Tempo'] = data.timecreated.dt.dayofyear\n",
    "        if student == 0:\n",
    "            data[(data['action'] == action)].groupby(\"Tempo\")['action'].count().plot(label=action, title = action)\n",
    "            plt.legend()\n",
    "        else:\n",
    "            data[(data['action'] == action) & (data['userid'] == student)].groupby(\"Tempo\")['action'].count().plot(label=action, title = action)\n",
    "            plt.legend()\n",
    "            \n",
    "    def plotar_barra(self, student = 0, action = None, day = 'hora'):\n",
    "        data = self.data\n",
    "        if day == 'hora':\n",
    "            data['Tempo'] = data.timecreated.dt.hour\n",
    "        elif day == 'semana':\n",
    "            data['Tempo'] = data.timecreated.dt.weekofyear\n",
    "        elif day == 'dia_semana':\n",
    "            data['Tempo'] = data.timecreated.dt.weekday\n",
    "        else :\n",
    "            data['Tempo'] = data.timecreated.dt.dayofyear\n",
    "        if student == 0:\n",
    "            sns.countplot(x = 'Tempo', data = data).set_title(student)\n",
    "        else:\n",
    "            if action == None:\n",
    "                sns.countplot(x = 'Tempo', data = data[data['userid'] == student]).set_title(student)\n",
    "            else:\n",
    "                sns.countplot(x = 'Tempo', data = data[(data['userid'] == student) & (data['action'] == action)]).set_title(student)\n",
    "                \n",
    "test = Statistic(dt)\n",
    "test.acao_aluno(60360, 'viewed')"
   ]
  },
  {
   "cell_type": "code",
   "execution_count": 16,
   "metadata": {},
   "outputs": [],
   "source": [
    "logs = pd.read_csv('File/logs-66769.csv', parse_dates = [\"timecreated\"])\n",
    "role = pd.read_csv('File/roles-66769.csv')\n",
    "dt = pd.merge(logs, role, on='userid')"
   ]
  },
  {
   "cell_type": "code",
   "execution_count": 17,
   "metadata": {},
   "outputs": [
    {
     "data": {
      "text/html": [
       "<div>\n",
       "<style scoped>\n",
       "    .dataframe tbody tr th:only-of-type {\n",
       "        vertical-align: middle;\n",
       "    }\n",
       "\n",
       "    .dataframe tbody tr th {\n",
       "        vertical-align: top;\n",
       "    }\n",
       "\n",
       "    .dataframe thead th {\n",
       "        text-align: right;\n",
       "    }\n",
       "</style>\n",
       "<table border=\"1\" class=\"dataframe\">\n",
       "  <thead>\n",
       "    <tr style=\"text-align: right;\">\n",
       "      <th></th>\n",
       "      <th>Unnamed: 0</th>\n",
       "      <th>id</th>\n",
       "      <th>eventname</th>\n",
       "      <th>component</th>\n",
       "      <th>action</th>\n",
       "      <th>target</th>\n",
       "      <th>objecttable</th>\n",
       "      <th>objectid</th>\n",
       "      <th>crud</th>\n",
       "      <th>edulevel</th>\n",
       "      <th>...</th>\n",
       "      <th>userid</th>\n",
       "      <th>courseid</th>\n",
       "      <th>relateduserid</th>\n",
       "      <th>anonymous</th>\n",
       "      <th>other</th>\n",
       "      <th>timecreated</th>\n",
       "      <th>origin</th>\n",
       "      <th>ip</th>\n",
       "      <th>realuserid</th>\n",
       "      <th>role</th>\n",
       "    </tr>\n",
       "  </thead>\n",
       "  <tbody>\n",
       "    <tr>\n",
       "      <th>0</th>\n",
       "      <td>0</td>\n",
       "      <td>1259904343</td>\n",
       "      <td>course_created</td>\n",
       "      <td>core</td>\n",
       "      <td>created</td>\n",
       "      <td>course</td>\n",
       "      <td>course</td>\n",
       "      <td>66769.0</td>\n",
       "      <td>c</td>\n",
       "      <td>1</td>\n",
       "      <td>...</td>\n",
       "      <td>50211</td>\n",
       "      <td>66769</td>\n",
       "      <td>NaN</td>\n",
       "      <td>0</td>\n",
       "      <td>a:2:{s:9:\"shortname\";s:12:\"ACH0131-2019\";s:8:\"...</td>\n",
       "      <td>2019-02-05 15:37:39</td>\n",
       "      <td>web</td>\n",
       "      <td>177.141.242.47</td>\n",
       "      <td>NaN</td>\n",
       "      <td>editingteacher</td>\n",
       "    </tr>\n",
       "    <tr>\n",
       "      <th>1</th>\n",
       "      <td>1</td>\n",
       "      <td>1259904344</td>\n",
       "      <td>course_section_created</td>\n",
       "      <td>core</td>\n",
       "      <td>created</td>\n",
       "      <td>course_section</td>\n",
       "      <td>course_sections</td>\n",
       "      <td>5818541.0</td>\n",
       "      <td>c</td>\n",
       "      <td>1</td>\n",
       "      <td>...</td>\n",
       "      <td>50211</td>\n",
       "      <td>66769</td>\n",
       "      <td>NaN</td>\n",
       "      <td>0</td>\n",
       "      <td>a:1:{s:10:\"sectionnum\";i:0;}</td>\n",
       "      <td>2019-02-05 15:37:40</td>\n",
       "      <td>web</td>\n",
       "      <td>177.141.242.47</td>\n",
       "      <td>NaN</td>\n",
       "      <td>editingteacher</td>\n",
       "    </tr>\n",
       "    <tr>\n",
       "      <th>2</th>\n",
       "      <td>2</td>\n",
       "      <td>1259904345</td>\n",
       "      <td>course_section_created</td>\n",
       "      <td>core</td>\n",
       "      <td>created</td>\n",
       "      <td>course_section</td>\n",
       "      <td>course_sections</td>\n",
       "      <td>5818542.0</td>\n",
       "      <td>c</td>\n",
       "      <td>1</td>\n",
       "      <td>...</td>\n",
       "      <td>50211</td>\n",
       "      <td>66769</td>\n",
       "      <td>NaN</td>\n",
       "      <td>0</td>\n",
       "      <td>a:1:{s:10:\"sectionnum\";i:1;}</td>\n",
       "      <td>2019-02-05 15:37:40</td>\n",
       "      <td>web</td>\n",
       "      <td>177.141.242.47</td>\n",
       "      <td>NaN</td>\n",
       "      <td>editingteacher</td>\n",
       "    </tr>\n",
       "    <tr>\n",
       "      <th>3</th>\n",
       "      <td>3</td>\n",
       "      <td>1259904346</td>\n",
       "      <td>course_section_created</td>\n",
       "      <td>core</td>\n",
       "      <td>created</td>\n",
       "      <td>course_section</td>\n",
       "      <td>course_sections</td>\n",
       "      <td>5818543.0</td>\n",
       "      <td>c</td>\n",
       "      <td>1</td>\n",
       "      <td>...</td>\n",
       "      <td>50211</td>\n",
       "      <td>66769</td>\n",
       "      <td>NaN</td>\n",
       "      <td>0</td>\n",
       "      <td>a:1:{s:10:\"sectionnum\";i:2;}</td>\n",
       "      <td>2019-02-05 15:37:40</td>\n",
       "      <td>web</td>\n",
       "      <td>177.141.242.47</td>\n",
       "      <td>NaN</td>\n",
       "      <td>editingteacher</td>\n",
       "    </tr>\n",
       "    <tr>\n",
       "      <th>4</th>\n",
       "      <td>4</td>\n",
       "      <td>1259904347</td>\n",
       "      <td>course_section_created</td>\n",
       "      <td>core</td>\n",
       "      <td>created</td>\n",
       "      <td>course_section</td>\n",
       "      <td>course_sections</td>\n",
       "      <td>5818544.0</td>\n",
       "      <td>c</td>\n",
       "      <td>1</td>\n",
       "      <td>...</td>\n",
       "      <td>50211</td>\n",
       "      <td>66769</td>\n",
       "      <td>NaN</td>\n",
       "      <td>0</td>\n",
       "      <td>a:1:{s:10:\"sectionnum\";i:3;}</td>\n",
       "      <td>2019-02-05 15:37:40</td>\n",
       "      <td>web</td>\n",
       "      <td>177.141.242.47</td>\n",
       "      <td>NaN</td>\n",
       "      <td>editingteacher</td>\n",
       "    </tr>\n",
       "  </tbody>\n",
       "</table>\n",
       "<p>5 rows × 23 columns</p>\n",
       "</div>"
      ],
      "text/plain": [
       "   Unnamed: 0          id               eventname component   action  \\\n",
       "0           0  1259904343          course_created      core  created   \n",
       "1           1  1259904344  course_section_created      core  created   \n",
       "2           2  1259904345  course_section_created      core  created   \n",
       "3           3  1259904346  course_section_created      core  created   \n",
       "4           4  1259904347  course_section_created      core  created   \n",
       "\n",
       "           target      objecttable   objectid crud  edulevel  ...  userid  \\\n",
       "0          course           course    66769.0    c         1  ...   50211   \n",
       "1  course_section  course_sections  5818541.0    c         1  ...   50211   \n",
       "2  course_section  course_sections  5818542.0    c         1  ...   50211   \n",
       "3  course_section  course_sections  5818543.0    c         1  ...   50211   \n",
       "4  course_section  course_sections  5818544.0    c         1  ...   50211   \n",
       "\n",
       "   courseid  relateduserid  anonymous  \\\n",
       "0     66769            NaN          0   \n",
       "1     66769            NaN          0   \n",
       "2     66769            NaN          0   \n",
       "3     66769            NaN          0   \n",
       "4     66769            NaN          0   \n",
       "\n",
       "                                               other         timecreated  \\\n",
       "0  a:2:{s:9:\"shortname\";s:12:\"ACH0131-2019\";s:8:\"... 2019-02-05 15:37:39   \n",
       "1                       a:1:{s:10:\"sectionnum\";i:0;} 2019-02-05 15:37:40   \n",
       "2                       a:1:{s:10:\"sectionnum\";i:1;} 2019-02-05 15:37:40   \n",
       "3                       a:1:{s:10:\"sectionnum\";i:2;} 2019-02-05 15:37:40   \n",
       "4                       a:1:{s:10:\"sectionnum\";i:3;} 2019-02-05 15:37:40   \n",
       "\n",
       "   origin              ip realuserid            role  \n",
       "0     web  177.141.242.47        NaN  editingteacher  \n",
       "1     web  177.141.242.47        NaN  editingteacher  \n",
       "2     web  177.141.242.47        NaN  editingteacher  \n",
       "3     web  177.141.242.47        NaN  editingteacher  \n",
       "4     web  177.141.242.47        NaN  editingteacher  \n",
       "\n",
       "[5 rows x 23 columns]"
      ]
     },
     "execution_count": 17,
     "metadata": {},
     "output_type": "execute_result"
    }
   ],
   "source": [
    "def split(x):\n",
    "    return x.split('event')[-1][1:]\n",
    "dt['eventname'] = logs['eventname'].apply(split)\n",
    "dt.head()"
   ]
  },
  {
   "cell_type": "code",
   "execution_count": 18,
   "metadata": {},
   "outputs": [
    {
     "data": {
      "text/html": [
       "<div>\n",
       "<style scoped>\n",
       "    .dataframe tbody tr th:only-of-type {\n",
       "        vertical-align: middle;\n",
       "    }\n",
       "\n",
       "    .dataframe tbody tr th {\n",
       "        vertical-align: top;\n",
       "    }\n",
       "\n",
       "    .dataframe thead th {\n",
       "        text-align: right;\n",
       "    }\n",
       "</style>\n",
       "<table border=\"1\" class=\"dataframe\">\n",
       "  <thead>\n",
       "    <tr style=\"text-align: right;\">\n",
       "      <th></th>\n",
       "      <th>component</th>\n",
       "    </tr>\n",
       "  </thead>\n",
       "  <tbody>\n",
       "    <tr>\n",
       "      <th>mod_quiz</th>\n",
       "      <td>178</td>\n",
       "    </tr>\n",
       "    <tr>\n",
       "      <th>core</th>\n",
       "      <td>165</td>\n",
       "    </tr>\n",
       "    <tr>\n",
       "      <th>mod_lesson</th>\n",
       "      <td>34</td>\n",
       "    </tr>\n",
       "    <tr>\n",
       "      <th>mod_resource</th>\n",
       "      <td>21</td>\n",
       "    </tr>\n",
       "    <tr>\n",
       "      <th>mod_workshop</th>\n",
       "      <td>14</td>\n",
       "    </tr>\n",
       "    <tr>\n",
       "      <th>mod_questionnaire</th>\n",
       "      <td>11</td>\n",
       "    </tr>\n",
       "    <tr>\n",
       "      <th>mod_assign</th>\n",
       "      <td>6</td>\n",
       "    </tr>\n",
       "    <tr>\n",
       "      <th>mod_forum</th>\n",
       "      <td>2</td>\n",
       "    </tr>\n",
       "  </tbody>\n",
       "</table>\n",
       "</div>"
      ],
      "text/plain": [
       "                   component\n",
       "mod_quiz                 178\n",
       "core                     165\n",
       "mod_lesson                34\n",
       "mod_resource              21\n",
       "mod_workshop              14\n",
       "mod_questionnaire         11\n",
       "mod_assign                 6\n",
       "mod_forum                  2"
      ]
     },
     "execution_count": 18,
     "metadata": {},
     "output_type": "execute_result"
    }
   ],
   "source": [
    "gd = dt.set_index('userid')\n",
    "data = pd.DataFrame(gd[gd['action'] == 'viewed'].loc[60360, 'component'].value_counts())\n",
    "data"
   ]
  },
  {
   "cell_type": "code",
   "execution_count": 14,
   "metadata": {},
   "outputs": [
    {
     "data": {
      "text/plain": [
       "<matplotlib.axes._subplots.AxesSubplot at 0x7f27c5dc3358>"
      ]
     },
     "execution_count": 14,
     "metadata": {},
     "output_type": "execute_result"
    },
    {
     "data": {
      "image/png": "[encoded data removed]",
      "text/plain": [
       "<Figure size 432x288 with 1 Axes>"
      ]
     },
     "metadata": {
      "needs_background": "light"
     },
     "output_type": "display_data"
    }
   ],
   "source": [
    "sns.barplot(y = data.index, x = 'component', data = data)"
   ]
  },
  {
   "cell_type": "code",
   "execution_count": 19,
   "metadata": {},
   "outputs": [
    {
     "name": "stderr",
     "output_type": "stream",
     "text": [
      "/opt/miniconda3/lib/python3.6/site-packages/ipykernel_launcher.py:6: SettingWithCopyWarning: \n",
      "A value is trying to be set on a copy of a slice from a DataFrame.\n",
      "Try using .loc[row_indexer,col_indexer] = value instead\n",
      "\n",
      "See the caveats in the documentation: http://pandas.pydata.org/pandas-docs/stable/indexing.html#indexing-view-versus-copy\n",
      "  \n"
     ]
    }
   ],
   "source": [
    "test = Statistic(dt)\n"
   ]
  },
  {
   "cell_type": "code",
   "execution_count": 20,
   "metadata": {},
   "outputs": [
    {
     "data": {
      "text/plain": [
       "1"
      ]
     },
     "execution_count": 20,
     "metadata": {},
     "output_type": "execute_result"
    },
    {
     "data": {
      "image/png": "[encoded data removed]",
      "text/plain": [
       "<Figure size 432x288 with 1 Axes>"
      ]
     },
     "metadata": {
      "needs_background": "light"
     },
     "output_type": "display_data"
    }
   ],
   "source": [
    "test.acao_aluno(60360, 'viewed')"
   ]
  }
 ],
 "metadata": {
  "kernelspec": {
   "display_name": "Python [conda env:root] *",
   "language": "python",
   "name": "conda-root-py"
  },
  "language_info": {
   "codemirror_mode": {
    "name": "ipython",
    "version": 3
   },
   "file_extension": ".py",
   "mimetype": "text/x-python",
   "name": "python",
   "nbconvert_exporter": "python",
   "pygments_lexer": "ipython3",
   "version": "3.6.8"
  }
 },
 "nbformat": 4,
 "nbformat_minor": 4
}
