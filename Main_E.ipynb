{
 "cells": [
  {
   "cell_type": "code",
   "execution_count": 26,
   "metadata": {},
   "outputs": [],
   "source": [
    "%run functions.ipynb"
   ]
  },
  {
   "cell_type": "code",
   "execution_count": 62,
   "metadata": {},
   "outputs": [],
   "source": [
    "data = pd.read_csv('modules_views-66769.csv')"
   ]
  },
  {
   "cell_type": "code",
   "execution_count": 133,
   "metadata": {},
   "outputs": [
    {
     "name": "stderr",
     "output_type": "stream",
     "text": [
      "/opt/miniconda3/lib/python3.6/site-packages/ipykernel_launcher.py:2: SettingWithCopyWarning: \n",
      "A value is trying to be set on a copy of a slice from a DataFrame.\n",
      "Try using .loc[row_indexer,col_indexer] = value instead\n",
      "\n",
      "See the caveats in the documentation: http://pandas.pydata.org/pandas-docs/stable/indexing.html#indexing-view-versus-copy\n",
      "  \n"
     ]
    },
    {
     "data": {
      "text/html": [
       "<div>\n",
       "<style scoped>\n",
       "    .dataframe tbody tr th:only-of-type {\n",
       "        vertical-align: middle;\n",
       "    }\n",
       "\n",
       "    .dataframe tbody tr th {\n",
       "        vertical-align: top;\n",
       "    }\n",
       "\n",
       "    .dataframe thead th {\n",
       "        text-align: right;\n",
       "    }\n",
       "</style>\n",
       "<table border=\"1\" class=\"dataframe\">\n",
       "  <thead>\n",
       "    <tr style=\"text-align: right;\">\n",
       "      <th></th>\n",
       "      <th>Unnamed: 0</th>\n",
       "      <th>course</th>\n",
       "      <th>name</th>\n",
       "      <th>cmid</th>\n",
       "      <th>views</th>\n",
       "      <th>uniqusers</th>\n",
       "      <th>courseid</th>\n",
       "      <th>vpu</th>\n",
       "      <th>students</th>\n",
       "      <th>teachers</th>\n",
       "      <th>ups</th>\n",
       "      <th>vps</th>\n",
       "      <th>new</th>\n",
       "      <th>uniquser/views</th>\n",
       "    </tr>\n",
       "  </thead>\n",
       "  <tbody>\n",
       "    <tr>\n",
       "      <th>1</th>\n",
       "      <td>1</td>\n",
       "      <td>66769</td>\n",
       "      <td>quiz</td>\n",
       "      <td>2474311</td>\n",
       "      <td>32.0</td>\n",
       "      <td>3.0</td>\n",
       "      <td>66769.0</td>\n",
       "      <td>10.666667</td>\n",
       "      <td>179</td>\n",
       "      <td>9</td>\n",
       "      <td>0.016760</td>\n",
       "      <td>0.178771</td>\n",
       "      <td>0.093750</td>\n",
       "      <td>0.093750</td>\n",
       "    </tr>\n",
       "    <tr>\n",
       "      <th>10</th>\n",
       "      <td>10</td>\n",
       "      <td>66769</td>\n",
       "      <td>quiz</td>\n",
       "      <td>2474326</td>\n",
       "      <td>1704.0</td>\n",
       "      <td>152.0</td>\n",
       "      <td>66769.0</td>\n",
       "      <td>11.210526</td>\n",
       "      <td>179</td>\n",
       "      <td>9</td>\n",
       "      <td>0.849162</td>\n",
       "      <td>9.519553</td>\n",
       "      <td>0.089202</td>\n",
       "      <td>0.089202</td>\n",
       "    </tr>\n",
       "    <tr>\n",
       "      <th>16</th>\n",
       "      <td>16</td>\n",
       "      <td>66769</td>\n",
       "      <td>quiz</td>\n",
       "      <td>2474333</td>\n",
       "      <td>1802.0</td>\n",
       "      <td>154.0</td>\n",
       "      <td>66769.0</td>\n",
       "      <td>11.701299</td>\n",
       "      <td>179</td>\n",
       "      <td>9</td>\n",
       "      <td>0.860335</td>\n",
       "      <td>10.067039</td>\n",
       "      <td>0.085461</td>\n",
       "      <td>0.085461</td>\n",
       "    </tr>\n",
       "    <tr>\n",
       "      <th>19</th>\n",
       "      <td>19</td>\n",
       "      <td>66769</td>\n",
       "      <td>quiz</td>\n",
       "      <td>2474336</td>\n",
       "      <td>1739.0</td>\n",
       "      <td>159.0</td>\n",
       "      <td>66769.0</td>\n",
       "      <td>10.937107</td>\n",
       "      <td>179</td>\n",
       "      <td>9</td>\n",
       "      <td>0.888268</td>\n",
       "      <td>9.715084</td>\n",
       "      <td>0.091432</td>\n",
       "      <td>0.091432</td>\n",
       "    </tr>\n",
       "    <tr>\n",
       "      <th>30</th>\n",
       "      <td>30</td>\n",
       "      <td>66769</td>\n",
       "      <td>quiz</td>\n",
       "      <td>2474347</td>\n",
       "      <td>1841.0</td>\n",
       "      <td>158.0</td>\n",
       "      <td>66769.0</td>\n",
       "      <td>11.651899</td>\n",
       "      <td>179</td>\n",
       "      <td>9</td>\n",
       "      <td>0.882682</td>\n",
       "      <td>10.284916</td>\n",
       "      <td>0.085823</td>\n",
       "      <td>0.085823</td>\n",
       "    </tr>\n",
       "  </tbody>\n",
       "</table>\n",
       "</div>"
      ],
      "text/plain": [
       "    Unnamed: 0  course  name     cmid   views  uniqusers  courseid        vpu  \\\n",
       "1            1   66769  quiz  2474311    32.0        3.0   66769.0  10.666667   \n",
       "10          10   66769  quiz  2474326  1704.0      152.0   66769.0  11.210526   \n",
       "16          16   66769  quiz  2474333  1802.0      154.0   66769.0  11.701299   \n",
       "19          19   66769  quiz  2474336  1739.0      159.0   66769.0  10.937107   \n",
       "30          30   66769  quiz  2474347  1841.0      158.0   66769.0  11.651899   \n",
       "\n",
       "    students  teachers       ups        vps       new  uniquser/views  \n",
       "1        179         9  0.016760   0.178771  0.093750        0.093750  \n",
       "10       179         9  0.849162   9.519553  0.089202        0.089202  \n",
       "16       179         9  0.860335  10.067039  0.085461        0.085461  \n",
       "19       179         9  0.888268   9.715084  0.091432        0.091432  \n",
       "30       179         9  0.882682  10.284916  0.085823        0.085823  "
      ]
     },
     "execution_count": 133,
     "metadata": {},
     "output_type": "execute_result"
    }
   ],
   "source": [
    "g = data[(data['name'] == 'quiz') & (data['name'] != 'resource')]\n",
    "g['uniquser/views'] = g['uniqusers']/g['views']\n",
    "g.head()"
   ]
  },
  {
   "cell_type": "code",
   "execution_count": 132,
   "metadata": {},
   "outputs": [
    {
     "data": {
      "text/plain": [
       "<seaborn.axisgrid.FacetGrid at 0x7f45ca6f1668>"
      ]
     },
     "execution_count": 132,
     "metadata": {},
     "output_type": "execute_result"
    },
    {
     "data": {
      "image/png": "[encoded data removed]",
      "text/plain": [
       "<Figure size 432x432 with 1 Axes>"
      ]
     },
     "metadata": {
      "needs_background": "light"
     },
     "output_type": "display_data"
    }
   ],
   "source": [
    "sns.factorplot('name', 'views', data = g, kind='bar', size=6)"
   ]
  }
 ],
 "metadata": {
  "kernelspec": {
   "display_name": "Python [conda env:root] *",
   "language": "python",
   "name": "conda-root-py"
  },
  "language_info": {
   "codemirror_mode": {
    "name": "ipython",
    "version": 3
   },
   "file_extension": ".py",
   "mimetype": "text/x-python",
   "name": "python",
   "nbconvert_exporter": "python",
   "pygments_lexer": "ipython3",
   "version": "3.6.8"
  }
 },
 "nbformat": 4,
 "nbformat_minor": 4
}
